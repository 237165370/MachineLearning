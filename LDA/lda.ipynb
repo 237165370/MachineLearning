{
 "cells": [
  {
   "cell_type": "markdown",
   "metadata": {},
   "source": [
    "## LDA/Fisher 源码实现 "
   ]
  },
  {
   "cell_type": "markdown",
   "metadata": {},
   "source": [
    "### 引入相关库"
   ]
  },
  {
   "cell_type": "code",
   "execution_count": 1,
   "metadata": {},
   "outputs": [],
   "source": [
    "import numpy as np\n",
    "import pandas as pd\n",
    "import matplotlib.pyplot as plt\n"
   ]
  },
  {
   "cell_type": "code",
   "execution_count": 2,
   "metadata": {},
   "outputs": [],
   "source": [
    "#计算均值,要求输入数据为numpy的矩阵格式，行表示样本数，列表示特征    \n",
    "def meanX(data):\n",
    "    return np.mean(data, axis=0) #axis=0表示按照列来求均值，如果输入list,则axis=1\n"
   ]
  },
  {
   "cell_type": "markdown",
   "metadata": {},
   "source": [
    "### LDA算法实现"
   ]
  },
  {
   "cell_type": "code",
   "execution_count": 3,
   "metadata": {},
   "outputs": [],
   "source": [
    "#计算类内离散度矩阵子项si\n",
    "def compute_si(xi):\n",
    "    n = xi.shape[0]\n",
    "    ui = meanX(xi)\n",
    "    si = 0\n",
    "    for i in range(0, n):\n",
    "        si = si + ( xi[i, :] - ui).T * (xi[i, :] - ui )   \n",
    "    return si\n",
    "\n",
    "#计算类间离散度矩阵Sb\n",
    "def compute_Sb(x1, x2):\n",
    "    dataX=np.vstack((x1,x2))#合并样本   \n",
    "    print \"dataX:\", dataX\n",
    "    #计算均值\n",
    "    u1=meanX(x1)\n",
    "    u2=meanX(x2)    \n",
    "    u=meanX(dataX) #所有样本的均值\n",
    "    Sb = (u-u1).T * (u-u1) + (u-u2).T * (u-u2)\n",
    "    return Sb\n",
    "    \n",
    "        \n",
    "def LDA(x1, x2):\n",
    "    #计算类内离散度矩阵Sw\n",
    "    s1 = compute_si(x1)\n",
    "    s2 = compute_si(x2)     \n",
    "    #Sw=(n1*s1+n2*s2)/(n1+n2)\n",
    "    Sw = s1 + s2\n",
    "    \n",
    "    #计算类间离散度矩阵Sb\n",
    "    #Sb=(n1*(m-m1).T*(m-m1)+n2*(m-m2).T*(m-m2))/(n1+n2)\n",
    "    Sb = compute_Sb(x1, x2)\n",
    "    \n",
    "    #求最大特征值对应的特征向量    \n",
    "    eig_value, vec = np.linalg.eig(np.mat(Sw).I*Sb)#特征值和特征向量\n",
    "    index_vec = np.argsort(-eig_value)#对eig_value从大到小排序，返回索引\n",
    "    eig_index = index_vec[:1] #取出最大的特征值的索引\n",
    "    w = vec[:, eig_index] #取出最大的特征值对应的特征向量\n",
    "    return w"
   ]
  },
  {
   "cell_type": "markdown",
   "metadata": {},
   "source": [
    "### 构造数据集"
   ]
  },
  {
   "cell_type": "code",
   "execution_count": 4,
   "metadata": {},
   "outputs": [
    {
     "name": "stdout",
     "output_type": "stream",
     "text": [
      "[[18.93314346 18.34477196]\n",
      " [16.30593804 15.62170289]\n",
      " [17.10822678 16.34611882]\n",
      " [18.4907721  15.80400898]\n",
      " [18.14483149 15.85428922]\n",
      " [16.97320081 17.2396569 ]\n",
      " [18.73810721 15.11751718]\n",
      " [16.4681786  19.3626708 ]] [[12.80631524  9.36789595]\n",
      " [11.5139152   8.69570105]\n",
      " [ 8.28460266  8.98015663]\n",
      " [ 8.55723255  8.30610269]\n",
      " [10.63855077  8.75788812]\n",
      " [10.9176947  12.91157592]\n",
      " [10.10859137  8.15180198]\n",
      " [ 8.50446587  9.13270925]]\n"
     ]
    }
   ],
   "source": [
    "def createDataSet():  \n",
    "    X1 = np.mat(np.random.random((8, 2)) * 5 + 15)  #类别A\n",
    "    X2 = np.mat(np.random.random((8, 2)) * 5 + 8)   #类别B\n",
    "    return X1, X2  \n",
    "\n",
    "x1, x2 = createDataSet()\n",
    "\n",
    "print x1, x2"
   ]
  },
  {
   "cell_type": "markdown",
   "metadata": {},
   "source": [
    "### LDA训练"
   ]
  },
  {
   "cell_type": "code",
   "execution_count": 5,
   "metadata": {},
   "outputs": [
    {
     "name": "stdout",
     "output_type": "stream",
     "text": [
      "dataX: [[18.93314346 18.34477196]\n",
      " [16.30593804 15.62170289]\n",
      " [17.10822678 16.34611882]\n",
      " [18.4907721  15.80400898]\n",
      " [18.14483149 15.85428922]\n",
      " [16.97320081 17.2396569 ]\n",
      " [18.73810721 15.11751718]\n",
      " [16.4681786  19.3626708 ]\n",
      " [12.80631524  9.36789595]\n",
      " [11.5139152   8.69570105]\n",
      " [ 8.28460266  8.98015663]\n",
      " [ 8.55723255  8.30610269]\n",
      " [10.63855077  8.75788812]\n",
      " [10.9176947  12.91157592]\n",
      " [10.10859137  8.15180198]\n",
      " [ 8.50446587  9.13270925]]\n",
      "w: [[0.77542443]\n",
      " [0.63144039]]\n"
     ]
    }
   ],
   "source": [
    "w = LDA(x1, x2)\n",
    "print \"w:\",w"
   ]
  },
  {
   "cell_type": "code",
   "execution_count": 6,
   "metadata": {},
   "outputs": [],
   "source": [
    "# 编写一个绘图函数\n",
    "def plotFig(group):  \n",
    "    fig = plt.figure()  \n",
    "    plt.ylim(0, 30)  \n",
    "    plt.xlim(0, 30)  \n",
    "    ax = fig.add_subplot(111)  \n",
    "    ax.scatter(group[0,:].tolist(), group[1,:].tolist())  \n",
    "    plt.show()  "
   ]
  },
  {
   "cell_type": "code",
   "execution_count": 9,
   "metadata": {},
   "outputs": [
    {
     "data": {
      "image/png": "[encoded data removed]",
      "text/plain": [
       "<matplotlib.figure.Figure at 0x9121a58>"
      ]
     },
     "metadata": {},
     "output_type": "display_data"
    }
   ],
   "source": [
    "#绘制图形\n",
    "plotFig(np.hstack((x1.T, x2.T)))  "
   ]
  },
  {
   "cell_type": "markdown",
   "metadata": {},
   "source": [
    "### 实例测试"
   ]
  },
  {
   "cell_type": "code",
   "execution_count": 8,
   "metadata": {},
   "outputs": [
    {
     "name": "stdout",
     "output_type": "stream",
     "text": [
      "Output:  [[25.69014016 25.72919165]]\n"
     ]
    }
   ],
   "source": [
    "test2=np.mat([22,22])  \n",
    "g=np.dot(w.T, test2.T - 0.5*(meanX(x1)-meanX(x2)))  \n",
    "print \"Output: \", g  "
   ]
  },
  {
   "cell_type": "code",
   "execution_count": null,
   "metadata": {},
   "outputs": [],
   "source": []
  }
 ],
 "metadata": {
  "kernelspec": {
   "display_name": "Python 2",
   "language": "python",
   "name": "python2"
  },
  "language_info": {
   "codemirror_mode": {
    "name": "ipython",
    "version": 2
   },
   "file_extension": ".py",
   "mimetype": "text/x-python",
   "name": "python",
   "nbconvert_exporter": "python",
   "pygments_lexer": "ipython2",
   "version": "2.7.14"
  }
 },
 "nbformat": 4,
 "nbformat_minor": 2
}
