{
 "cells": [
  {
   "cell_type": "markdown",
   "metadata": {},
   "source": [
    "## LDA/Fisher 源码实现 "
   ]
  },
  {
   "cell_type": "markdown",
   "metadata": {},
   "source": [
    "### 引入相关库"
   ]
  },
  {
   "cell_type": "code",
   "execution_count": 1,
   "metadata": {},
   "outputs": [],
   "source": [
    "import numpy as np\n",
    "import pandas as pd\n",
    "import matplotlib.pyplot as plt\n"
   ]
  },
  {
   "cell_type": "code",
   "execution_count": 2,
   "metadata": {},
   "outputs": [],
   "source": [
    "#计算均值,要求输入数据为numpy的矩阵格式，行表示样本数，列表示特征    \n",
    "def meanX(data):\n",
    "    return np.mean(data, axis=0) #axis=0表示按照列来求均值，如果输入list,则axis=1\n"
   ]
  },
  {
   "cell_type": "markdown",
   "metadata": {},
   "source": [
    "### LDA算法实现"
   ]
  },
  {
   "cell_type": "code",
   "execution_count": 3,
   "metadata": {},
   "outputs": [],
   "source": [
    "#计算类内离散度矩阵子项si\n",
    "def compute_si(xi):\n",
    "    n = xi.shape[0]\n",
    "    print n\n",
    "    ui = meanX(x1)\n",
    "    print \"ui\", ui\n",
    "    si = 0\n",
    "    for i in range(0, n):\n",
    "        si = si + ( xi[i, :] - ui).T * (xi[i, :] - ui )   \n",
    "    return si\n",
    "\n",
    "#计算类间离散度矩阵Sb\n",
    "def compute_Sb(x1, x2):\n",
    "    dataX=np.vstack((x1,x2))#合并样本   \n",
    "    print \"dataX:\", dataX\n",
    "    #计算均值\n",
    "    u1=meanX(x1)\n",
    "    u2=meanX(x2)    \n",
    "    u=meanX(dataX) #所有样本的均值\n",
    "    Sb = (u-u1).T * (u-u1) + (u-u2).T * (u-u2)\n",
    "    return Sb\n",
    "    \n",
    "        \n",
    "def LDA(x1, x2):\n",
    "    #计算类内离散度矩阵Sw\n",
    "    s1 = compute_si(x1)\n",
    "    s2 = compute_si(x2)     \n",
    "    #Sw=(n1*s1+n2*s2)/(n1+n2)\n",
    "    Sw = s1 + s2\n",
    "    \n",
    "    #计算类间离散度矩阵Sb\n",
    "    #Sb=(n1*(m-m1).T*(m-m1)+n2*(m-m2).T*(m-m2))/(n1+n2)\n",
    "    Sb = compute_Sb(x1, x2)\n",
    "    \n",
    "    #求最大特征值对应的特征向量    \n",
    "    eig_value, vec = np.linalg.eig(np.mat(Sw).I*Sb)#特征值和特征向量\n",
    "    index_vec = np.argsort(-eig_value)#对eig_value从大到小排序，返回索引\n",
    "    eig_index = index_vec[:1] #取出最大的特征值的索引\n",
    "    w = vec[:, eig_index] #取出最大的特征值对应的特征向量\n",
    "    return w"
   ]
  },
  {
   "cell_type": "markdown",
   "metadata": {},
   "source": [
    "### 构造数据集"
   ]
  },
  {
   "cell_type": "code",
   "execution_count": 4,
   "metadata": {},
   "outputs": [
    {
     "name": "stdout",
     "output_type": "stream",
     "text": [
      "[[17.19674786 16.3439288 ]\n",
      " [16.20147207 16.09117375]\n",
      " [19.51228009 15.37132063]\n",
      " [18.37987361 18.42997995]\n",
      " [15.76608358 18.04329344]\n",
      " [17.15169031 16.04662123]\n",
      " [15.80918337 15.50665016]\n",
      " [18.74745918 17.43909448]] [[11.00252388 10.89746852]\n",
      " [ 9.51184267 12.88408608]\n",
      " [ 9.44752805 10.25732681]\n",
      " [11.01888012  8.35548904]\n",
      " [11.13258089  9.06827655]\n",
      " [12.22379099  9.89993748]\n",
      " [ 9.7517637  11.56555953]\n",
      " [ 8.63321619  9.93448116]]\n"
     ]
    }
   ],
   "source": [
    "def createDataSet():  \n",
    "    X1 = np.mat(np.random.random((8, 2)) * 5 + 15)  #类别A\n",
    "    X2 = np.mat(np.random.random((8, 2)) * 5 + 8)   #类别B\n",
    "    return X1, X2  \n",
    "\n",
    "x1, x2 = createDataSet()\n",
    "\n",
    "print x1, x2"
   ]
  },
  {
   "cell_type": "markdown",
   "metadata": {},
   "source": [
    "### LDA训练"
   ]
  },
  {
   "cell_type": "code",
   "execution_count": 5,
   "metadata": {},
   "outputs": [
    {
     "name": "stdout",
     "output_type": "stream",
     "text": [
      "8\n",
      "ui [[17.34559876 16.6590078 ]]\n",
      "8\n",
      "ui [[17.34559876 16.6590078 ]]\n",
      "dataX: [[17.19674786 16.3439288 ]\n",
      " [16.20147207 16.09117375]\n",
      " [19.51228009 15.37132063]\n",
      " [18.37987361 18.42997995]\n",
      " [15.76608358 18.04329344]\n",
      " [17.15169031 16.04662123]\n",
      " [15.80918337 15.50665016]\n",
      " [18.74745918 17.43909448]\n",
      " [11.00252388 10.89746852]\n",
      " [ 9.51184267 12.88408608]\n",
      " [ 9.44752805 10.25732681]\n",
      " [11.01888012  8.35548904]\n",
      " [11.13258089  9.06827655]\n",
      " [12.22379099  9.89993748]\n",
      " [ 9.7517637  11.56555953]\n",
      " [ 8.63321619  9.93448116]]\n",
      "[[0.73094071]\n",
      " [0.68244097]]\n"
     ]
    }
   ],
   "source": [
    "w = LDA(x1, x2)\n",
    "print w"
   ]
  },
  {
   "cell_type": "code",
   "execution_count": 6,
   "metadata": {},
   "outputs": [],
   "source": [
    "# 编写一个绘图函数\n",
    "def plotFig(group):  \n",
    "    fig = plt.figure()  \n",
    "    plt.ylim(0, 30)  \n",
    "    plt.xlim(0, 30)  \n",
    "    ax = fig.add_subplot(111)  \n",
    "    print group[0,:],group[1,:]\n",
    "    ax.scatter(group[0,:].tolist(), group[1,:].tolist())  \n",
    "    plt.show()  "
   ]
  },
  {
   "cell_type": "code",
   "execution_count": 9,
   "metadata": {},
   "outputs": [
    {
     "name": "stdout",
     "output_type": "stream",
     "text": [
      "[[17.19674786 16.20147207 19.51228009 18.37987361 15.76608358 17.15169031\n",
      "  15.80918337 18.74745918 11.00252388  9.51184267  9.44752805 11.01888012\n",
      "  11.13258089 12.22379099  9.7517637   8.63321619]] [[16.3439288  16.09117375 15.37132063 18.42997995 18.04329344 16.04662123\n",
      "  15.50665016 17.43909448 10.89746852 12.88408608 10.25732681  8.35548904\n",
      "   9.06827655  9.89993748 11.56555953  9.93448116]]\n"
     ]
    },
    {
     "data": {
      "image/png": "[encoded data removed]",
      "text/plain": [
       "<matplotlib.figure.Figure at 0x90fdf60>"
      ]
     },
     "metadata": {},
     "output_type": "display_data"
    }
   ],
   "source": [
    "#绘制图形\n",
    "plotFig(np.hstack((x1.T, x2.T)))  "
   ]
  },
  {
   "cell_type": "markdown",
   "metadata": {},
   "source": [
    "### 实例测试"
   ]
  },
  {
   "cell_type": "code",
   "execution_count": 8,
   "metadata": {},
   "outputs": [
    {
     "name": "stdout",
     "output_type": "stream",
     "text": [
      "g(x) : [[26.14379234 26.64141102]]\n"
     ]
    }
   ],
   "source": [
    "test2=np.mat([22,22])  \n",
    "g=np.dot(w.T, test2.T - 0.5*(meanX(x1)-meanX(x2)))  \n",
    "print \"g(x) :\",g  "
   ]
  },
  {
   "cell_type": "code",
   "execution_count": null,
   "metadata": {},
   "outputs": [],
   "source": []
  }
 ],
 "metadata": {
  "kernelspec": {
   "display_name": "Python 2",
   "language": "python",
   "name": "python2"
  },
  "language_info": {
   "codemirror_mode": {
    "name": "ipython",
    "version": 2
   },
   "file_extension": ".py",
   "mimetype": "text/x-python",
   "name": "python",
   "nbconvert_exporter": "python",
   "pygments_lexer": "ipython2",
   "version": "2.7.14"
  }
 },
 "nbformat": 4,
 "nbformat_minor": 2
}
